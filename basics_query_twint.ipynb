{
 "cells": [
  {
   "cell_type": "markdown",
   "metadata": {},
   "source": [
    "# Kurzanleitung Twint zum Twitter Mining\n",
    "## Stand: 13.11.2020\n",
    "## Links\n",
    "### Twint bei GitHub\n",
    "\n",
    "https://github.com/twintproject/twint\n",
    "\n",
    "https://github.com/twintproject/twint/wiki\n",
    "\n",
    "https://github.com/twintproject/twint/wiki/Scraping-functions\n",
    "\n",
    "https://github.com/twintproject/twint/wiki/Other-examples\n",
    "\n",
    "### externe Tutorials\n",
    "\n",
    "https://nealcaren.org/lessons/twint/\n",
    "\n"
   ]
  },
  {
   "cell_type": "markdown",
   "metadata": {},
   "source": [
    "### Installation von Twint unter Anaconda\n",
    "\n",
    "Im Terminal-Fenster / Prompt von Anaconda eingeben:\n",
    "\n",
    "pip3 install --user --upgrade git+https://github.com/twintproject/twint.git@origin/master#egg=twint\n",
    "\n",
    "(Alternative wäre: \n",
    "\n",
    "pip install --user --upgrade git+https://github.com/twintproject/twint.git@origin/master#egg=twint)\n",
    "\n",
    "weitere Infos unter: https://github.com/twintproject/twint"
   ]
  },
  {
   "cell_type": "markdown",
   "metadata": {},
   "source": [
    "### Imports"
   ]
  },
  {
   "cell_type": "code",
   "execution_count": 2,
   "metadata": {},
   "outputs": [],
   "source": [
    "import twint\n",
    "import nest_asyncio\n",
    "import pandas as pd\n",
    "\n",
    "nest_asyncio.apply()"
   ]
  },
  {
   "cell_type": "markdown",
   "metadata": {},
   "source": [
    "### Suche nach Hashtag"
   ]
  },
  {
   "cell_type": "code",
   "execution_count": null,
   "metadata": {},
   "outputs": [],
   "source": [
    "c = twint.Config()      # twint wird initiiert\n",
    "\n",
    "c.Search = '#Wutbürger' # Suchwort als String übergeben\n",
    "# c.Limit = 20          # Anzahl der Tweets, nach denen gesucht werden soll; \n",
    "                        # wenn weggelassen werde alle gesucht\n",
    "    \n",
    "c.Pandas = True         # ermöglicht Speichern im Pandas-DataFrame, andere Optionen möglich\n",
    "c.Hide_output = True    # Ausgabe der gefundenen Tweets im Notebook wird ausgeschaltet\n",
    "\n",
    "twint.run.Search(c)     # Suche wird gestartet"
   ]
  },
  {
   "cell_type": "markdown",
   "metadata": {},
   "source": [
    "### Speichern und Ausgabe im Pandas-Dataframe"
   ]
  },
  {
   "cell_type": "code",
   "execution_count": null,
   "metadata": {},
   "outputs": [],
   "source": [
    "df = twint.storage.panda.Tweets_df\n",
    "\n",
    "print(df.shape[0])      # zeigt die Länge des DataFrames an und \n",
    "                        # damit die Anzahl der gefundenen Tweets\n",
    "df.head()               # zeigt die erste fünf Zeile des DataFrame an"
   ]
  },
  {
   "cell_type": "markdown",
   "metadata": {},
   "source": [
    "### Sammeln der Tweets eines Users"
   ]
  },
  {
   "cell_type": "code",
   "execution_count": null,
   "metadata": {},
   "outputs": [],
   "source": [
    "c = twint.Config()      # twint wird initiiert\n",
    "\n",
    "c.Username = 'NBABubbleLife' # Suchwort als String übergeben\n",
    "# c.Limit = 20          # Anzahl der Tweets, nach denen gesucht werden soll; \n",
    "                        # wenn weggelassen werde alle gesucht\n",
    "    \n",
    "c.Pandas = True         # ermöglicht Speichern im Pandas-DataFrame, andere Optionen möglich\n",
    "c.Hide_output = True    # Ausgabe der gefundenen Tweets im Notebook wird ausgeschaltet\n",
    "\n",
    "twint.run.Search(c)     # Suche wird gestartet"
   ]
  },
  {
   "cell_type": "markdown",
   "metadata": {},
   "source": [
    "Nach jeder Suche erfolgt jeweils in der nachfolgenden Codezelle erneut das Speichern und Ausgeben des DataFrames, indem die entsprechende Codezelle (s.o.) ausgeführt wird. Damit der DataFrame nicht jedesmal überschrieben wird, empfiehlt es sich daher, für jede Suche ein eigenes Notebook anzulegen."
   ]
  },
  {
   "cell_type": "markdown",
   "metadata": {},
   "source": [
    "### Speichern des DataFrame als csv-Datei"
   ]
  },
  {
   "cell_type": "code",
   "execution_count": null,
   "metadata": {},
   "outputs": [],
   "source": [
    "df.to_csv('DATEINAME.csv', index=False)"
   ]
  }
 ],
 "metadata": {
  "kernelspec": {
   "display_name": "Python 3",
   "language": "python",
   "name": "python3"
  },
  "language_info": {
   "codemirror_mode": {
    "name": "ipython",
    "version": 3
   },
   "file_extension": ".py",
   "mimetype": "text/x-python",
   "name": "python",
   "nbconvert_exporter": "python",
   "pygments_lexer": "ipython3",
   "version": "3.7.4"
  }
 },
 "nbformat": 4,
 "nbformat_minor": 4
}
